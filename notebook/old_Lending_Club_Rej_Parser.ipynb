{
 "cells": [
  {
   "cell_type": "markdown",
   "metadata": {},
   "source": [
    "## Lending Club Analysis"
   ]
  },
  {
   "cell_type": "markdown",
   "metadata": {},
   "source": [
    "### Prepare datasets for analysis"
   ]
  },
  {
   "cell_type": "markdown",
   "metadata": {},
   "source": [
    "Import basic libraries"
   ]
  },
  {
   "cell_type": "code",
   "execution_count": 1,
   "metadata": {},
   "outputs": [],
   "source": [
    "import numpy as np\n",
    "import pandas as pd"
   ]
  },
  {
   "cell_type": "markdown",
   "metadata": {},
   "source": [
    "Change pandas print options so we can print all desired rows/columns without truncation"
   ]
  },
  {
   "cell_type": "code",
   "execution_count": 2,
   "metadata": {},
   "outputs": [],
   "source": [
    "pd.set_option('display.max_rows', None)\n",
    "pd.set_option('display.max_columns', None)"
   ]
  },
  {
   "cell_type": "markdown",
   "metadata": {},
   "source": [
    "Read in the data"
   ]
  },
  {
   "cell_type": "code",
   "execution_count": 16,
   "metadata": {},
   "outputs": [],
   "source": [
    "rej_df = pd.read_csv(\n",
    "    '../input/rejected_2007_to_2017Q3.csv.gz',\n",
    "    compression='gzip',\n",
    "    low_memory=True\n",
    ")"
   ]
  },
  {
   "cell_type": "code",
   "execution_count": 17,
   "metadata": {},
   "outputs": [],
   "source": [
    "rej_df = rej_df[['Amount Requested', 'Loan Title', 'Debt-To-Income Ratio', 'Employment Length']]"
   ]
  },
  {
   "cell_type": "code",
   "execution_count": null,
   "metadata": {},
   "outputs": [],
   "source": [
    "# rej_df[(rej_df['Loan Title'] != 'debt_consolidation') & (rej_df['Loan Title'] != 'other') & (rej_df['Loan Title'] != 'Debt consolidation') & (rej_df['Loan Title'] != 'home_improvement') & (rej_df['Loan Title'] != 'credit_card') & (rej_df['Loan Title'] != 'car') & (rej_df['Loan Title'] != 'major_purchase') & (rej_df['Loan Title'] != 'Credit card refinancing') & (rej_df['Loan Title'] != 'Other') & (rej_df['Loan Title'] != 'moving') & (rej_df['Loan Title'] != 'medical') & (rej_df['Loan Title'] != 'small_business') & (rej_df['Loan Title'] != 'Business Loan') & (rej_df['Loan Title'] != 'Home improvement') & (rej_df['Loan Title'] != 'house') & (rej_df['Loan Title'] != 'Car financing')][['Loan Title']].describe()"
   ]
  },
  {
   "cell_type": "code",
   "execution_count": 18,
   "metadata": {},
   "outputs": [],
   "source": [
    "loan_mapping = {\n",
    "    \"debt_consolidation\": 1,\n",
    "    \"Debt consolidation\": 1,\n",
    "    \"credit_card\": 2,\n",
    "    \"Credit card refinancing\": 2,\n",
    "    \"home_improvement\": 3,\n",
    "    \"Home improvement\": 3,\n",
    "    \"car\": 4,\n",
    "    \"Car financing\": 4,\n",
    "    \"major_purchase\": 5,\n",
    "    \"moving\": 6,\n",
    "    \"medical\": 7,\n",
    "    \"small_business\": 8,\n",
    "    \"Business Loan\": 8,\n",
    "    \"house\": 9,\n",
    "    \"vacation\": 10\n",
    "}\n",
    "\n",
    "rej_df['Loan Title'] = rej_df['Loan Title'].map(loan_mapping).fillna(0).astype(int)"
   ]
  },
  {
   "cell_type": "code",
   "execution_count": 19,
   "metadata": {},
   "outputs": [],
   "source": [
    "rej_df = rej_df.rename(index=str, columns={\"Amount Requested\": \"amountRequested\", \"Loan Title\": \"reason\", \"Debt-To-Income Ratio\": \"salaryImpactRatio\", \"Employment Length\": \"termOfService\"})"
   ]
  },
  {
   "cell_type": "code",
   "execution_count": 20,
   "metadata": {},
   "outputs": [],
   "source": [
    "rej_df['accepted'] = 0"
   ]
  },
  {
   "cell_type": "code",
   "execution_count": 21,
   "metadata": {},
   "outputs": [],
   "source": [
    "rej_df['salaryImpactRatio'] = rej_df['salaryImpactRatio'].str.replace('%', '').astype(float)"
   ]
  },
  {
   "cell_type": "code",
   "execution_count": 22,
   "metadata": {},
   "outputs": [],
   "source": [
    "rej_df.to_csv('../input/rejected_small.csv.gz', compression='gzip', index_label=False)"
   ]
  }
 ],
 "metadata": {
  "kernelspec": {
   "display_name": "Python 3",
   "language": "python",
   "name": "python3"
  },
  "language_info": {
   "codemirror_mode": {
    "name": "ipython",
    "version": 3
   },
   "file_extension": ".py",
   "mimetype": "text/x-python",
   "name": "python",
   "nbconvert_exporter": "python",
   "pygments_lexer": "ipython3",
   "version": "3.6.4"
  }
 },
 "nbformat": 4,
 "nbformat_minor": 2
}
