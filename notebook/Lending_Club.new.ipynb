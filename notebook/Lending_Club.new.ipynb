{
 "cells": [
  {
   "cell_type": "markdown",
   "metadata": {},
   "source": [
    "### Prepare datasets for analysis"
   ]
  },
  {
   "cell_type": "markdown",
   "metadata": {},
   "source": [
    "## Lending Club Analysis"
   ]
  },
  {
   "cell_type": "markdown",
   "metadata": {},
   "source": [
    "Import basic libraries"
   ]
  },
  {
   "cell_type": "code",
   "execution_count": 1,
   "metadata": {},
   "outputs": [],
   "source": [
    "import numpy as np\n",
    "import pandas as pd\n",
    "\n",
    "# Change pandas print options so we can print all desired rows/columns without truncation\n",
    "\n",
    "pd.set_option('display.max_rows', None)\n",
    "pd.set_option('display.max_columns', None)"
   ]
  },
  {
   "cell_type": "markdown",
   "metadata": {},
   "source": [
    "Read in the data"
   ]
  },
  {
   "cell_type": "code",
   "execution_count": 2,
   "metadata": {},
   "outputs": [],
   "source": [
    "df = pd.read_csv(\n",
    "    '../input/all_small.csv.gz',\n",
    "    compression='gzip',\n",
    "    low_memory=True,\n",
    "    nrows=1000\n",
    ")"
   ]
  },
  {
   "cell_type": "markdown",
   "metadata": {},
   "source": [
    "### Have a first look"
   ]
  },
  {
   "cell_type": "code",
   "execution_count": 3,
   "metadata": {},
   "outputs": [
    {
     "data": {
      "text/plain": [
       "(1000, 5)"
      ]
     },
     "execution_count": 3,
     "metadata": {},
     "output_type": "execute_result"
    }
   ],
   "source": [
    "df.shape"
   ]
  },
  {
   "cell_type": "code",
   "execution_count": 4,
   "metadata": {},
   "outputs": [
    {
     "name": "stdout",
     "output_type": "stream",
     "text": [
      "<class 'pandas.core.frame.DataFrame'>\n",
      "Int64Index: 1000 entries, 137079 to 14803731\n",
      "Data columns (total 5 columns):\n",
      "amountRequested      1000 non-null float64\n",
      "reason               998 non-null object\n",
      "salaryImpactRatio    1000 non-null float64\n",
      "termOfService        955 non-null object\n",
      "accepted             1000 non-null int64\n",
      "dtypes: float64(2), int64(1), object(2)\n",
      "memory usage: 46.9+ KB\n"
     ]
    }
   ],
   "source": [
    "df.info()"
   ]
  },
  {
   "cell_type": "code",
   "execution_count": 5,
   "metadata": {
    "scrolled": false
   },
   "outputs": [
    {
     "data": {
      "text/html": [
       "<div>\n",
       "<style scoped>\n",
       "    .dataframe tbody tr th:only-of-type {\n",
       "        vertical-align: middle;\n",
       "    }\n",
       "\n",
       "    .dataframe tbody tr th {\n",
       "        vertical-align: top;\n",
       "    }\n",
       "\n",
       "    .dataframe thead th {\n",
       "        text-align: right;\n",
       "    }\n",
       "</style>\n",
       "<table border=\"1\" class=\"dataframe\">\n",
       "  <thead>\n",
       "    <tr style=\"text-align: right;\">\n",
       "      <th></th>\n",
       "      <th>amountRequested</th>\n",
       "      <th>reason</th>\n",
       "      <th>salaryImpactRatio</th>\n",
       "      <th>termOfService</th>\n",
       "      <th>accepted</th>\n",
       "    </tr>\n",
       "  </thead>\n",
       "  <tbody>\n",
       "    <tr>\n",
       "      <th>137079</th>\n",
       "      <td>2700.0</td>\n",
       "      <td>Debt consolidation</td>\n",
       "      <td>2.000000</td>\n",
       "      <td>4 years</td>\n",
       "      <td>1</td>\n",
       "    </tr>\n",
       "    <tr>\n",
       "      <th>3470514</th>\n",
       "      <td>10000.0</td>\n",
       "      <td>home_improvement</td>\n",
       "      <td>31.350000</td>\n",
       "      <td>&lt; 1 year</td>\n",
       "      <td>0</td>\n",
       "    </tr>\n",
       "    <tr>\n",
       "      <th>445678</th>\n",
       "      <td>25000.0</td>\n",
       "      <td>Debt consolidation</td>\n",
       "      <td>4.716981</td>\n",
       "      <td>5 years</td>\n",
       "      <td>1</td>\n",
       "    </tr>\n",
       "  </tbody>\n",
       "</table>\n",
       "</div>"
      ],
      "text/plain": [
       "         amountRequested              reason  salaryImpactRatio termOfService  \\\n",
       "137079            2700.0  Debt consolidation           2.000000       4 years   \n",
       "3470514          10000.0    home_improvement          31.350000      < 1 year   \n",
       "445678           25000.0  Debt consolidation           4.716981       5 years   \n",
       "\n",
       "         accepted  \n",
       "137079          1  \n",
       "3470514         0  \n",
       "445678          1  "
      ]
     },
     "execution_count": 5,
     "metadata": {},
     "output_type": "execute_result"
    }
   ],
   "source": [
    "df.head(3)"
   ]
  },
  {
   "cell_type": "code",
   "execution_count": 6,
   "metadata": {},
   "outputs": [
    {
     "data": {
      "text/html": [
       "<div>\n",
       "<style scoped>\n",
       "    .dataframe tbody tr th:only-of-type {\n",
       "        vertical-align: middle;\n",
       "    }\n",
       "\n",
       "    .dataframe tbody tr th {\n",
       "        vertical-align: top;\n",
       "    }\n",
       "\n",
       "    .dataframe thead th {\n",
       "        text-align: right;\n",
       "    }\n",
       "</style>\n",
       "<table border=\"1\" class=\"dataframe\">\n",
       "  <thead>\n",
       "    <tr style=\"text-align: right;\">\n",
       "      <th></th>\n",
       "      <th>amountRequested</th>\n",
       "      <th>salaryImpactRatio</th>\n",
       "      <th>accepted</th>\n",
       "    </tr>\n",
       "  </thead>\n",
       "  <tbody>\n",
       "    <tr>\n",
       "      <th>count</th>\n",
       "      <td>1000.000000</td>\n",
       "      <td>1000.000000</td>\n",
       "      <td>1000.000000</td>\n",
       "    </tr>\n",
       "    <tr>\n",
       "      <th>mean</th>\n",
       "      <td>13263.900000</td>\n",
       "      <td>108.402971</td>\n",
       "      <td>0.095000</td>\n",
       "    </tr>\n",
       "    <tr>\n",
       "      <th>std</th>\n",
       "      <td>14990.318674</td>\n",
       "      <td>1391.817930</td>\n",
       "      <td>0.293362</td>\n",
       "    </tr>\n",
       "    <tr>\n",
       "      <th>min</th>\n",
       "      <td>1000.000000</td>\n",
       "      <td>-1.000000</td>\n",
       "      <td>0.000000</td>\n",
       "    </tr>\n",
       "    <tr>\n",
       "      <th>25%</th>\n",
       "      <td>4500.000000</td>\n",
       "      <td>4.967500</td>\n",
       "      <td>0.000000</td>\n",
       "    </tr>\n",
       "    <tr>\n",
       "      <th>50%</th>\n",
       "      <td>10000.000000</td>\n",
       "      <td>15.795000</td>\n",
       "      <td>0.000000</td>\n",
       "    </tr>\n",
       "    <tr>\n",
       "      <th>75%</th>\n",
       "      <td>20000.000000</td>\n",
       "      <td>31.670000</td>\n",
       "      <td>0.000000</td>\n",
       "    </tr>\n",
       "    <tr>\n",
       "      <th>max</th>\n",
       "      <td>300000.000000</td>\n",
       "      <td>38810.750000</td>\n",
       "      <td>1.000000</td>\n",
       "    </tr>\n",
       "  </tbody>\n",
       "</table>\n",
       "</div>"
      ],
      "text/plain": [
       "       amountRequested  salaryImpactRatio     accepted\n",
       "count      1000.000000        1000.000000  1000.000000\n",
       "mean      13263.900000         108.402971     0.095000\n",
       "std       14990.318674        1391.817930     0.293362\n",
       "min        1000.000000          -1.000000     0.000000\n",
       "25%        4500.000000           4.967500     0.000000\n",
       "50%       10000.000000          15.795000     0.000000\n",
       "75%       20000.000000          31.670000     0.000000\n",
       "max      300000.000000       38810.750000     1.000000"
      ]
     },
     "execution_count": 6,
     "metadata": {},
     "output_type": "execute_result"
    }
   ],
   "source": [
    "df.describe()"
   ]
  },
  {
   "cell_type": "code",
   "execution_count": 7,
   "metadata": {},
   "outputs": [
    {
     "data": {
      "text/html": [
       "<div>\n",
       "<style scoped>\n",
       "    .dataframe tbody tr th:only-of-type {\n",
       "        vertical-align: middle;\n",
       "    }\n",
       "\n",
       "    .dataframe tbody tr th {\n",
       "        vertical-align: top;\n",
       "    }\n",
       "\n",
       "    .dataframe thead th {\n",
       "        text-align: right;\n",
       "    }\n",
       "</style>\n",
       "<table border=\"1\" class=\"dataframe\">\n",
       "  <thead>\n",
       "    <tr style=\"text-align: right;\">\n",
       "      <th></th>\n",
       "      <th>reason</th>\n",
       "      <th>termOfService</th>\n",
       "    </tr>\n",
       "  </thead>\n",
       "  <tbody>\n",
       "    <tr>\n",
       "      <th>count</th>\n",
       "      <td>998</td>\n",
       "      <td>955</td>\n",
       "    </tr>\n",
       "    <tr>\n",
       "      <th>unique</th>\n",
       "      <td>46</td>\n",
       "      <td>11</td>\n",
       "    </tr>\n",
       "    <tr>\n",
       "      <th>top</th>\n",
       "      <td>debt_consolidation</td>\n",
       "      <td>&lt; 1 year</td>\n",
       "    </tr>\n",
       "    <tr>\n",
       "      <th>freq</th>\n",
       "      <td>327</td>\n",
       "      <td>702</td>\n",
       "    </tr>\n",
       "  </tbody>\n",
       "</table>\n",
       "</div>"
      ],
      "text/plain": [
       "                    reason termOfService\n",
       "count                  998           955\n",
       "unique                  46            11\n",
       "top     debt_consolidation      < 1 year\n",
       "freq                   327           702"
      ]
     },
     "execution_count": 7,
     "metadata": {},
     "output_type": "execute_result"
    }
   ],
   "source": [
    "categorical_features = []\n",
    "for column in df.columns:\n",
    "    if df[column].dtype == np.object:\n",
    "        categorical_features.append(column)\n",
    "\n",
    "df[categorical_features].describe()"
   ]
  },
  {
   "cell_type": "markdown",
   "metadata": {},
   "source": [
    "### Amount Requested"
   ]
  },
  {
   "cell_type": "code",
   "execution_count": 8,
   "metadata": {},
   "outputs": [
    {
     "data": {
      "text/plain": [
       "137079       2700.0\n",
       "3470514     10000.0\n",
       "445678      25000.0\n",
       "13791876     8000.0\n",
       "15571610     6000.0\n",
       "Name: amountRequested, dtype: float64"
      ]
     },
     "execution_count": 8,
     "metadata": {},
     "output_type": "execute_result"
    }
   ],
   "source": [
    "df['amountRequested'].head(5)"
   ]
  },
  {
   "cell_type": "markdown",
   "metadata": {},
   "source": [
    "### Reason"
   ]
  },
  {
   "cell_type": "code",
   "execution_count": 9,
   "metadata": {},
   "outputs": [
    {
     "data": {
      "text/plain": [
       "count                    998\n",
       "unique                    46\n",
       "top       debt_consolidation\n",
       "freq                     327\n",
       "Name: reason, dtype: object"
      ]
     },
     "execution_count": 9,
     "metadata": {},
     "output_type": "execute_result"
    }
   ],
   "source": [
    "df['reason'].describe()"
   ]
  },
  {
   "cell_type": "code",
   "execution_count": 10,
   "metadata": {},
   "outputs": [
    {
     "data": {
      "text/plain": [
       "array(['Debt consolidation', 'home_improvement', 'debt_consolidation',\n",
       "       'other', 'small_business', 'moving', 'credit_card', 'car',\n",
       "       'medical', 'house', 'Car financing', 'Credit card refinancing',\n",
       "       'major_purchase', 'Debt Free', 'Other',\n",
       "       'Employed, good credit, financing a gift for my fiance!',\n",
       "       'Business', 'vacation', 'Home improvement',\n",
       "       'Moving and relocation', 'Business Loan', 'Debt Loan',\n",
       "       'creditcard/vacation', 'Major purchase', 'Vacation', 'Home buying',\n",
       "       'Business Line Of Credit', 'Medical expenses', 'Credit Cards',\n",
       "       'consolidate', 'Wedding Ring Loan', 'Credit card debt',\n",
       "       'renewable_energy', 'Minor consolidation loan',\n",
       "       'Debt Consolidation', ' Consolidation',\n",
       "       'Paying off Americanexpress card ', 'Credit Card Refinance',\n",
       "       'Purchasing Foreclosure', 'Consolidate',\n",
       "       'Credit card consolidation', nan, ' ', 'my loan',\n",
       "       'paying all debts', 'Green loan', 'Retail Business Expansion Loan'],\n",
       "      dtype=object)"
      ]
     },
     "execution_count": 10,
     "metadata": {},
     "output_type": "execute_result"
    }
   ],
   "source": [
    "df['reason'].unique()"
   ]
  },
  {
   "cell_type": "markdown",
   "metadata": {},
   "source": [
    "### Salary Impact Ratio"
   ]
  },
  {
   "cell_type": "code",
   "execution_count": 11,
   "metadata": {},
   "outputs": [
    {
     "data": {
      "text/plain": [
       "count     1000.000000\n",
       "mean       108.402971\n",
       "std       1391.817930\n",
       "min         -1.000000\n",
       "25%          4.967500\n",
       "50%         15.795000\n",
       "75%         31.670000\n",
       "max      38810.750000\n",
       "Name: salaryImpactRatio, dtype: float64"
      ]
     },
     "execution_count": 11,
     "metadata": {},
     "output_type": "execute_result"
    }
   ],
   "source": [
    "df['salaryImpactRatio'].describe()"
   ]
  },
  {
   "cell_type": "markdown",
   "metadata": {},
   "source": [
    "### Term of Service"
   ]
  },
  {
   "cell_type": "code",
   "execution_count": 12,
   "metadata": {},
   "outputs": [
    {
     "data": {
      "text/plain": [
       "array(['4 years', '< 1 year', '5 years', nan, '1 year', '10+ years',\n",
       "       '6 years', '2 years', '9 years', '8 years', '3 years', '7 years'],\n",
       "      dtype=object)"
      ]
     },
     "execution_count": 12,
     "metadata": {},
     "output_type": "execute_result"
    }
   ],
   "source": [
    "df['termOfService'].unique()"
   ]
  }
 ],
 "metadata": {
  "kernelspec": {
   "display_name": "Python 3",
   "language": "python",
   "name": "python3"
  },
  "language_info": {
   "codemirror_mode": {
    "name": "ipython",
    "version": 3
   },
   "file_extension": ".py",
   "mimetype": "text/x-python",
   "name": "python",
   "nbconvert_exporter": "python",
   "pygments_lexer": "ipython3",
   "version": "3.6.4"
  }
 },
 "nbformat": 4,
 "nbformat_minor": 2
}
