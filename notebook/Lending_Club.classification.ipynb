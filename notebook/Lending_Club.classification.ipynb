{
 "cells": [
  {
   "cell_type": "markdown",
   "metadata": {},
   "source": [
    "### Prepare datasets for analysis"
   ]
  },
  {
   "cell_type": "markdown",
   "metadata": {},
   "source": [
    "## Lending Club Analysis"
   ]
  },
  {
   "cell_type": "markdown",
   "metadata": {},
   "source": [
    "Import basic libraries"
   ]
  },
  {
   "cell_type": "code",
   "execution_count": 1,
   "metadata": {},
   "outputs": [],
   "source": [
    "import numpy as np\n",
    "import pandas as pd\n",
    "\n",
    "# Change pandas print options so we can print all desired rows/columns without truncation\n",
    "\n",
    "pd.set_option('display.max_rows', None)\n",
    "pd.set_option('display.max_columns', None)"
   ]
  },
  {
   "cell_type": "markdown",
   "metadata": {},
   "source": [
    "Read in the data"
   ]
  },
  {
   "cell_type": "code",
   "execution_count": 2,
   "metadata": {},
   "outputs": [],
   "source": [
    "df = pd.read_csv(\n",
    "    '../input/all_classification.csv.gz',\n",
    "    compression='gzip',\n",
    "    low_memory=True\n",
    ")"
   ]
  },
  {
   "cell_type": "markdown",
   "metadata": {},
   "source": [
    "### Have a first look"
   ]
  },
  {
   "cell_type": "code",
   "execution_count": 3,
   "metadata": {},
   "outputs": [
    {
     "data": {
      "text/plain": [
       "(17778273, 5)"
      ]
     },
     "execution_count": 3,
     "metadata": {},
     "output_type": "execute_result"
    }
   ],
   "source": [
    "df.shape"
   ]
  },
  {
   "cell_type": "code",
   "execution_count": 4,
   "metadata": {},
   "outputs": [
    {
     "name": "stdout",
     "output_type": "stream",
     "text": [
      "<class 'pandas.core.frame.DataFrame'>\n",
      "Int64Index: 17778273 entries, 5939787 to 7178136\n",
      "Data columns (total 5 columns):\n",
      "amountRequested      float64\n",
      "reason               object\n",
      "salaryImpactRatio    float64\n",
      "termOfService        object\n",
      "accepted             int64\n",
      "dtypes: float64(2), int64(1), object(2)\n",
      "memory usage: 813.8+ MB\n"
     ]
    }
   ],
   "source": [
    "df.info()"
   ]
  },
  {
   "cell_type": "code",
   "execution_count": 5,
   "metadata": {
    "scrolled": false
   },
   "outputs": [
    {
     "data": {
      "text/html": [
       "<div>\n",
       "<style scoped>\n",
       "    .dataframe tbody tr th:only-of-type {\n",
       "        vertical-align: middle;\n",
       "    }\n",
       "\n",
       "    .dataframe tbody tr th {\n",
       "        vertical-align: top;\n",
       "    }\n",
       "\n",
       "    .dataframe thead th {\n",
       "        text-align: right;\n",
       "    }\n",
       "</style>\n",
       "<table border=\"1\" class=\"dataframe\">\n",
       "  <thead>\n",
       "    <tr style=\"text-align: right;\">\n",
       "      <th></th>\n",
       "      <th>amountRequested</th>\n",
       "      <th>reason</th>\n",
       "      <th>salaryImpactRatio</th>\n",
       "      <th>termOfService</th>\n",
       "      <th>accepted</th>\n",
       "    </tr>\n",
       "  </thead>\n",
       "  <tbody>\n",
       "    <tr>\n",
       "      <th>5939787</th>\n",
       "      <td>5000.0</td>\n",
       "      <td>1</td>\n",
       "      <td>10.80</td>\n",
       "      <td>&lt; 1 year</td>\n",
       "      <td>0</td>\n",
       "    </tr>\n",
       "    <tr>\n",
       "      <th>5167229</th>\n",
       "      <td>2500.0</td>\n",
       "      <td>1</td>\n",
       "      <td>-1.00</td>\n",
       "      <td>&lt; 1 year</td>\n",
       "      <td>0</td>\n",
       "    </tr>\n",
       "    <tr>\n",
       "      <th>3424228</th>\n",
       "      <td>11500.0</td>\n",
       "      <td>1</td>\n",
       "      <td>51.10</td>\n",
       "      <td>&lt; 1 year</td>\n",
       "      <td>0</td>\n",
       "    </tr>\n",
       "    <tr>\n",
       "      <th>67318</th>\n",
       "      <td>15000.0</td>\n",
       "      <td>2</td>\n",
       "      <td>32.04</td>\n",
       "      <td>&lt; 1 year</td>\n",
       "      <td>0</td>\n",
       "    </tr>\n",
       "    <tr>\n",
       "      <th>6158569</th>\n",
       "      <td>15000.0</td>\n",
       "      <td>1</td>\n",
       "      <td>31.23</td>\n",
       "      <td>&lt; 1 year</td>\n",
       "      <td>0</td>\n",
       "    </tr>\n",
       "    <tr>\n",
       "      <th>9873121</th>\n",
       "      <td>5000.0</td>\n",
       "      <td>0</td>\n",
       "      <td>4.32</td>\n",
       "      <td>5 years</td>\n",
       "      <td>0</td>\n",
       "    </tr>\n",
       "    <tr>\n",
       "      <th>92773</th>\n",
       "      <td>20000.0</td>\n",
       "      <td>3</td>\n",
       "      <td>310.16</td>\n",
       "      <td>&lt; 1 year</td>\n",
       "      <td>0</td>\n",
       "    </tr>\n",
       "    <tr>\n",
       "      <th>16119973</th>\n",
       "      <td>15000.0</td>\n",
       "      <td>1</td>\n",
       "      <td>0.00</td>\n",
       "      <td>&lt; 1 year</td>\n",
       "      <td>0</td>\n",
       "    </tr>\n",
       "    <tr>\n",
       "      <th>8308276</th>\n",
       "      <td>10000.0</td>\n",
       "      <td>1</td>\n",
       "      <td>4.43</td>\n",
       "      <td>&lt; 1 year</td>\n",
       "      <td>0</td>\n",
       "    </tr>\n",
       "    <tr>\n",
       "      <th>327155</th>\n",
       "      <td>5500.0</td>\n",
       "      <td>2</td>\n",
       "      <td>57.24</td>\n",
       "      <td>&lt; 1 year</td>\n",
       "      <td>0</td>\n",
       "    </tr>\n",
       "  </tbody>\n",
       "</table>\n",
       "</div>"
      ],
      "text/plain": [
       "          amountRequested reason  salaryImpactRatio termOfService  accepted\n",
       "5939787            5000.0      1              10.80      < 1 year         0\n",
       "5167229            2500.0      1              -1.00      < 1 year         0\n",
       "3424228           11500.0      1              51.10      < 1 year         0\n",
       "67318             15000.0      2              32.04      < 1 year         0\n",
       "6158569           15000.0      1              31.23      < 1 year         0\n",
       "9873121            5000.0      0               4.32       5 years         0\n",
       "92773             20000.0      3             310.16      < 1 year         0\n",
       "16119973          15000.0      1               0.00      < 1 year         0\n",
       "8308276           10000.0      1               4.43      < 1 year         0\n",
       "327155             5500.0      2              57.24      < 1 year         0"
      ]
     },
     "execution_count": 5,
     "metadata": {},
     "output_type": "execute_result"
    }
   ],
   "source": [
    "df.head(10)"
   ]
  },
  {
   "cell_type": "code",
   "execution_count": 6,
   "metadata": {},
   "outputs": [
    {
     "data": {
      "text/html": [
       "<div>\n",
       "<style scoped>\n",
       "    .dataframe tbody tr th:only-of-type {\n",
       "        vertical-align: middle;\n",
       "    }\n",
       "\n",
       "    .dataframe tbody tr th {\n",
       "        vertical-align: top;\n",
       "    }\n",
       "\n",
       "    .dataframe thead th {\n",
       "        text-align: right;\n",
       "    }\n",
       "</style>\n",
       "<table border=\"1\" class=\"dataframe\">\n",
       "  <thead>\n",
       "    <tr style=\"text-align: right;\">\n",
       "      <th></th>\n",
       "      <th>amountRequested</th>\n",
       "      <th>salaryImpactRatio</th>\n",
       "      <th>accepted</th>\n",
       "    </tr>\n",
       "  </thead>\n",
       "  <tbody>\n",
       "    <tr>\n",
       "      <th>count</th>\n",
       "      <td>1.777825e+07</td>\n",
       "      <td>1.777825e+07</td>\n",
       "      <td>1.777827e+07</td>\n",
       "    </tr>\n",
       "    <tr>\n",
       "      <th>mean</th>\n",
       "      <td>1.341043e+04</td>\n",
       "      <td>inf</td>\n",
       "      <td>9.262998e-02</td>\n",
       "    </tr>\n",
       "    <tr>\n",
       "      <th>std</th>\n",
       "      <td>1.533065e+04</td>\n",
       "      <td>NaN</td>\n",
       "      <td>2.899132e-01</td>\n",
       "    </tr>\n",
       "    <tr>\n",
       "      <th>min</th>\n",
       "      <td>0.000000e+00</td>\n",
       "      <td>-1.000000e+00</td>\n",
       "      <td>0.000000e+00</td>\n",
       "    </tr>\n",
       "    <tr>\n",
       "      <th>25%</th>\n",
       "      <td>5.000000e+03</td>\n",
       "      <td>5.333333e+00</td>\n",
       "      <td>0.000000e+00</td>\n",
       "    </tr>\n",
       "    <tr>\n",
       "      <th>50%</th>\n",
       "      <td>1.000000e+04</td>\n",
       "      <td>1.614000e+01</td>\n",
       "      <td>0.000000e+00</td>\n",
       "    </tr>\n",
       "    <tr>\n",
       "      <th>75%</th>\n",
       "      <td>2.000000e+04</td>\n",
       "      <td>3.223000e+01</td>\n",
       "      <td>0.000000e+00</td>\n",
       "    </tr>\n",
       "    <tr>\n",
       "      <th>max</th>\n",
       "      <td>1.400000e+06</td>\n",
       "      <td>inf</td>\n",
       "      <td>1.000000e+00</td>\n",
       "    </tr>\n",
       "  </tbody>\n",
       "</table>\n",
       "</div>"
      ],
      "text/plain": [
       "       amountRequested  salaryImpactRatio      accepted\n",
       "count     1.777825e+07       1.777825e+07  1.777827e+07\n",
       "mean      1.341043e+04                inf  9.262998e-02\n",
       "std       1.533065e+04                NaN  2.899132e-01\n",
       "min       0.000000e+00      -1.000000e+00  0.000000e+00\n",
       "25%       5.000000e+03       5.333333e+00  0.000000e+00\n",
       "50%       1.000000e+04       1.614000e+01  0.000000e+00\n",
       "75%       2.000000e+04       3.223000e+01  0.000000e+00\n",
       "max       1.400000e+06                inf  1.000000e+00"
      ]
     },
     "execution_count": 6,
     "metadata": {},
     "output_type": "execute_result"
    }
   ],
   "source": [
    "df.describe()"
   ]
  },
  {
   "cell_type": "code",
   "execution_count": 7,
   "metadata": {},
   "outputs": [
    {
     "data": {
      "text/html": [
       "<div>\n",
       "<style scoped>\n",
       "    .dataframe tbody tr th:only-of-type {\n",
       "        vertical-align: middle;\n",
       "    }\n",
       "\n",
       "    .dataframe tbody tr th {\n",
       "        vertical-align: top;\n",
       "    }\n",
       "\n",
       "    .dataframe thead th {\n",
       "        text-align: right;\n",
       "    }\n",
       "</style>\n",
       "<table border=\"1\" class=\"dataframe\">\n",
       "  <thead>\n",
       "    <tr style=\"text-align: right;\">\n",
       "      <th></th>\n",
       "      <th>reason</th>\n",
       "      <th>termOfService</th>\n",
       "    </tr>\n",
       "  </thead>\n",
       "  <tbody>\n",
       "    <tr>\n",
       "      <th>count</th>\n",
       "      <td>17778250</td>\n",
       "      <td>17056098</td>\n",
       "    </tr>\n",
       "    <tr>\n",
       "      <th>unique</th>\n",
       "      <td>25</td>\n",
       "      <td>11</td>\n",
       "    </tr>\n",
       "    <tr>\n",
       "      <th>top</th>\n",
       "      <td>1</td>\n",
       "      <td>&lt; 1 year</td>\n",
       "    </tr>\n",
       "    <tr>\n",
       "      <th>freq</th>\n",
       "      <td>7529872</td>\n",
       "      <td>12613190</td>\n",
       "    </tr>\n",
       "  </tbody>\n",
       "</table>\n",
       "</div>"
      ],
      "text/plain": [
       "          reason termOfService\n",
       "count   17778250      17056098\n",
       "unique        25            11\n",
       "top            1      < 1 year\n",
       "freq     7529872      12613190"
      ]
     },
     "execution_count": 7,
     "metadata": {},
     "output_type": "execute_result"
    }
   ],
   "source": [
    "categorical_features = []\n",
    "for column in df.columns:\n",
    "    if df[column].dtype == np.object:\n",
    "        categorical_features.append(column)\n",
    "\n",
    "df[categorical_features].describe()"
   ]
  },
  {
   "cell_type": "code",
   "execution_count": 8,
   "metadata": {},
   "outputs": [
    {
     "data": {
      "text/plain": [
       "array(['1', '2', '0', '3', '4', '5', 'debt_consolidation', '9',\n",
       "       'credit_card', 'other', '6', '7', '8', 'home_improvement', '10',\n",
       "       'medical', 'major_purchase', 'moving', 'small_business', 'car',\n",
       "       'vacation', 'wedding', 'house', 'educational', 'renewable_energy',\n",
       "       nan], dtype=object)"
      ]
     },
     "execution_count": 8,
     "metadata": {},
     "output_type": "execute_result"
    }
   ],
   "source": [
    "df['reason'].unique()"
   ]
  },
  {
   "cell_type": "code",
   "execution_count": 10,
   "metadata": {},
   "outputs": [],
   "source": [
    "loan_mapping = {\n",
    "    \"other\": 0,\n",
    "    \"debt_consolidation\": 1,\n",
    "    \"credit_card\": 2,\n",
    "    \"home_improvement\": 3,\n",
    "    \"car\": 4,\n",
    "    \"major_purchase\": 5,\n",
    "    \"moving\": 6,\n",
    "    \"medical\": 7,\n",
    "    \"small_business\": 8,\n",
    "    \"Business Loan\": 8,\n",
    "    \"house\": 9,\n",
    "    \"vacation\": 10,\n",
    "    \"wedding\": 0,\n",
    "    \"educational\": 0,\n",
    "    \"renewable_energy\": 0\n",
    "}\n",
    "\n",
    "df['reason'] = df['reason'].map(loan_mapping).fillna(0).astype(int)"
   ]
  }
 ],
 "metadata": {
  "kernelspec": {
   "display_name": "Python 3",
   "language": "python",
   "name": "python3"
  },
  "language_info": {
   "codemirror_mode": {
    "name": "ipython",
    "version": 3
   },
   "file_extension": ".py",
   "mimetype": "text/x-python",
   "name": "python",
   "nbconvert_exporter": "python",
   "pygments_lexer": "ipython3",
   "version": "3.6.4"
  }
 },
 "nbformat": 4,
 "nbformat_minor": 2
}
